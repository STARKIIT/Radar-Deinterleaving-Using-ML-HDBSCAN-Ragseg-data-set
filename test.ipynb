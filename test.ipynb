{
 "cells": [
  {
   "cell_type": "code",
   "execution_count": 1,
   "metadata": {},
   "outputs": [
    {
     "name": "stdout",
     "output_type": "stream",
     "text": [
      "4\n"
     ]
    }
   ],
   "source": [
    "print(1+3)"
   ]
  },
  {
   "cell_type": "code",
   "execution_count": null,
   "metadata": {},
   "outputs": [],
   "source": [
    "radseg = [10, 20, 30, 40, 50]\n",
    "print(radseg)"
   ]
  },
  {
   "cell_type": "code",
   "execution_count": 6,
   "metadata": {},
   "outputs": [
    {
     "name": "stdout",
     "output_type": "stream",
     "text": [
      "Keys in radseg_iq.hdf5: ['signals']\n",
      "Contents of dataset (limited to 1 points): [[-0.31614268-1.29547407j -0.55889424+2.38332143j -1.00446139-2.08066359j\n",
      "  ...  0.85119635-4.00126177j -3.46343478-1.42000867j\n",
      "   0.73937188-0.43630042j]]\n"
     ]
    }
   ],
   "source": [
    "import h5py\n",
    "file_path = '/Users/likhityadav/Desktop/radar_deinterleave/data/raw_iq/radseg_iq.hdf5'\n",
    "try:\n",
    "    with h5py.File(file_path, 'r') as f:\n",
    "        print('Keys in radseg_iq.hdf5:', list(f.keys()))\n",
    "        dataset = f['signals'][:1]  # Load only the first 100 data points\n",
    "        print('Contents of dataset (limited to 1 points):', dataset)\n",
    "except FileNotFoundError:\n",
    "    print(f'Error: File {file_path} not found.')"
   ]
  },
  {
   "cell_type": "code",
   "execution_count": 3,
   "metadata": {},
   "outputs": [
    {
     "name": "stdout",
     "output_type": "stream",
     "text": [
      "Keys in the HDF5 file: ['signals']\n",
      "Key: signals, Shape: (10000, 32768), Data Type: complex128\n"
     ]
    }
   ],
   "source": [
    "import h5py\n",
    "\n",
    "file_path = \"data/raw_iq/radseg_iq.hdf5\"\n",
    "with h5py.File(file_path, \"r\") as f:\n",
    "    print(f\"Keys in the HDF5 file: {list(f.keys())}\")\n",
    "    for key in f.keys():\n",
    "        print(f\"Key: {key}, Shape: {f[key].shape}, Data Type: {f[key].dtype}\")"
   ]
  }
 ],
 "metadata": {
  "kernelspec": {
   "display_name": "radar_env",
   "language": "python",
   "name": "python3"
  },
  "language_info": {
   "codemirror_mode": {
    "name": "ipython",
    "version": 3
   },
   "file_extension": ".py",
   "mimetype": "text/x-python",
   "name": "python",
   "nbconvert_exporter": "python",
   "pygments_lexer": "ipython3",
   "version": "3.10.18"
  }
 },
 "nbformat": 4,
 "nbformat_minor": 2
}
